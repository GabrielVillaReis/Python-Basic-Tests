{
 "cells": [
  {
   "cell_type": "code",
   "execution_count": null,
   "source": [
    "z = 20\r\n",
    "print(z)"
   ],
   "outputs": [],
   "metadata": {}
  },
  {
   "cell_type": "code",
   "execution_count": null,
   "source": [
    "z = 10\r\n",
    "print(z)"
   ],
   "outputs": [],
   "metadata": {}
  },
  {
   "cell_type": "code",
   "execution_count": null,
   "source": [
    "nome = \"Gabriel\""
   ],
   "outputs": [],
   "metadata": {}
  },
  {
   "cell_type": "code",
   "execution_count": null,
   "source": [
    "sobrenome = \"Villa Verde\""
   ],
   "outputs": [],
   "metadata": {}
  },
  {
   "cell_type": "code",
   "execution_count": null,
   "source": [
    "nomecompleto = nome + \" \" + sobrenome"
   ],
   "outputs": [],
   "metadata": {}
  },
  {
   "cell_type": "code",
   "execution_count": null,
   "source": [
    "nomecompleto"
   ],
   "outputs": [],
   "metadata": {}
  },
  {
   "cell_type": "code",
   "execution_count": null,
   "source": [
    "i = 0\r\n",
    "while nome[i] !=\"\":\r\n",
    "    print(nome[i])\r\n",
    "    i+=1"
   ],
   "outputs": [],
   "metadata": {
    "scrolled": true
   }
  },
  {
   "cell_type": "code",
   "execution_count": null,
   "source": [
    "(nomecompleto + \" \" )* 2"
   ],
   "outputs": [],
   "metadata": {}
  },
  {
   "cell_type": "code",
   "execution_count": null,
   "source": [
    "nomecompleto += \" Dos Reis\""
   ],
   "outputs": [],
   "metadata": {}
  },
  {
   "cell_type": "code",
   "execution_count": null,
   "source": [
    "nomecompleto"
   ],
   "outputs": [],
   "metadata": {}
  },
  {
   "cell_type": "code",
   "execution_count": null,
   "source": [
    "nomecompleto = \"salve monstro\""
   ],
   "outputs": [],
   "metadata": {}
  },
  {
   "cell_type": "code",
   "execution_count": null,
   "source": [
    "nomecompleto"
   ],
   "outputs": [],
   "metadata": {}
  },
  {
   "cell_type": "code",
   "execution_count": null,
   "source": [
    "# Infinito\r\n",
    "i = 0\r\n",
    "while i >= 0:\r\n",
    "    print(i)\r\n",
    "    i+=1"
   ],
   "outputs": [],
   "metadata": {}
  },
  {
   "cell_type": "code",
   "execution_count": null,
   "source": [
    "lista1 = [[\"Gabriel\",\"Pedro\",\"Duda\",\"Guilherme\",\"Carol\"],[\"Gabriel\",\"Marisa\"],[\"Duda\",\"Raian\"],[\"Guilherme\",\"Carol\"]]"
   ],
   "outputs": [],
   "metadata": {}
  },
  {
   "cell_type": "code",
   "execution_count": null,
   "source": [
    "lista1[0][0]"
   ],
   "outputs": [],
   "metadata": {}
  },
  {
   "cell_type": "code",
   "execution_count": null,
   "source": [
    "#Nomes em Ordem alfabética\r\n",
    "i1 = 0\r\n",
    "i2 = 0\r\n",
    "while i1 <= len(lista1):\r\n",
    "    lista1[i1].sort()\r\n",
    "    print(lista1[i1])\r\n",
    "    i1+=1"
   ],
   "outputs": [],
   "metadata": {}
  },
  {
   "cell_type": "code",
   "execution_count": null,
   "source": [
    "dicionario1 = {\"Gabriel\":\"Marisa\", \"Guilherme\":\"Carol\", \"Raian\":\"Duda\"}"
   ],
   "outputs": [],
   "metadata": {}
  },
  {
   "cell_type": "code",
   "execution_count": null,
   "source": [
    "dicionario1"
   ],
   "outputs": [],
   "metadata": {}
  },
  {
   "cell_type": "code",
   "execution_count": null,
   "source": [
    "#Mostrar os homens\r\n",
    "dicionario1.keys()"
   ],
   "outputs": [],
   "metadata": {}
  },
  {
   "cell_type": "code",
   "execution_count": null,
   "source": [
    "#Mostrar as molieres\r\n",
    "dicionario1.values()"
   ],
   "outputs": [],
   "metadata": {}
  },
  {
   "cell_type": "code",
   "execution_count": null,
   "source": [
    "#Mostrar os casais\r\n",
    "dicionario1.items()"
   ],
   "outputs": [],
   "metadata": {}
  },
  {
   "cell_type": "code",
   "execution_count": null,
   "source": [
    "dicionario1 [\"Pedro\"] = \"???\""
   ],
   "outputs": [],
   "metadata": {}
  },
  {
   "cell_type": "code",
   "execution_count": null,
   "source": [
    "dicionario1"
   ],
   "outputs": [],
   "metadata": {}
  },
  {
   "cell_type": "code",
   "execution_count": null,
   "source": [
    "dicionario2 = {\"lixo\":2021, \"boaépoca\":[2009,2010,2011], 2020:[\"triste\",\"vida\"]}"
   ],
   "outputs": [],
   "metadata": {}
  },
  {
   "cell_type": "code",
   "execution_count": null,
   "source": [
    "dicionario2"
   ],
   "outputs": [],
   "metadata": {}
  },
  {
   "cell_type": "code",
   "execution_count": null,
   "source": [
    "dicionario2[\"lixo\"]"
   ],
   "outputs": [],
   "metadata": {}
  },
  {
   "cell_type": "code",
   "execution_count": null,
   "source": [
    "dicionario2[2020][0].upper()"
   ],
   "outputs": [],
   "metadata": {}
  },
  {
   "cell_type": "code",
   "execution_count": null,
   "source": [
    "dicionario2[\"boaépoca\"][0] +=10"
   ],
   "outputs": [],
   "metadata": {}
  },
  {
   "cell_type": "code",
   "execution_count": null,
   "source": [
    "dicionario2"
   ],
   "outputs": [],
   "metadata": {}
  },
  {
   "cell_type": "code",
   "execution_count": null,
   "source": [
    "dicionario3 = {\"chave1\":{\"chave2\":\"salve familia eh o pai aq\"}}"
   ],
   "outputs": [],
   "metadata": {}
  },
  {
   "cell_type": "code",
   "execution_count": null,
   "source": [
    "dicionario3"
   ],
   "outputs": [],
   "metadata": {}
  },
  {
   "cell_type": "code",
   "execution_count": null,
   "source": [
    "#Nomes em Ordem alfabética\r\n",
    "for i in lista1:\r\n",
    "    print (i)"
   ],
   "outputs": [],
   "metadata": {}
  },
  {
   "cell_type": "code",
   "execution_count": null,
   "source": [
    "lista4 = [0,2,4]\r\n",
    "for num in lista4:\r\n",
    "    if (num % 2 == 0):\r\n",
    "        print(num)\r\n",
    "        i = max(lista4) + 2\r\n",
    "        lista4.append(i)"
   ],
   "outputs": [],
   "metadata": {}
  },
  {
   "cell_type": "code",
   "execution_count": null,
   "source": [
    "lista5 = [0,1,2,3,4,5]\r\n",
    "lista5 += 6"
   ],
   "outputs": [],
   "metadata": {}
  },
  {
   "cell_type": "code",
   "execution_count": null,
   "source": [
    "ListaDeFuncionarios = [\"Derek Werneck\",\"João Paulo\",\"Gabriel Villa\",\"Gabriel Martins\",\"Cauã Barbosa\"]\r\n",
    "BancoDeHoras = {\"Derek Werneck\":0,\"João Paulo\":0,\"Gabriel Villa\":0,\"Gabriel Martins\":0,\"Cauã Barbosa\":0}"
   ],
   "outputs": [],
   "metadata": {}
  },
  {
   "cell_type": "code",
   "execution_count": null,
   "source": [
    "#Banco de Horas 6,37\r\n",
    "nome = input(\"Qual o seu nome?: \")\r\n",
    "if ((nome in ListaDeFuncionarios) == True):\r\n",
    "    horas = int(input(\"Qual o valor das horas trabalhadas no dia de hoje, contanto a partir do início do expediente (9:00)?\\n\"))\r\n",
    "    BancoDeHoras[nome] += horas\r\n",
    "else:\r\n",
    "    ListaDeFuncionarios.append(nome)\r\n",
    "    horas = int(input(\"Qual o valor das horas trabalhadas no dia de hoje, contanto a partir do início do expediente (9:00)?\\n\"))\r\n",
    "    BancoDeHoras[nome] = horas"
   ],
   "outputs": [],
   "metadata": {}
  },
  {
   "cell_type": "code",
   "execution_count": null,
   "source": [
    "print(ListaDeFuncionarios)\r\n",
    "print(BancoDeHoras)"
   ],
   "outputs": [],
   "metadata": {}
  },
  {
   "cell_type": "code",
   "execution_count": null,
   "source": [
    "#Nomes em Ordem alfabética v2\r\n",
    "lista1 = [[\"Gabriel\",\"Pedro\",\"Duda\",\"Guilherme\",\"Carol\"],[\"Gabriel\",\"Marisa\"],[\"Duda\",\"Raian\"],[\"Guilherme\",\"Carol\"]]\r\n",
    "i1 = 0\r\n",
    "while i1 < len(lista1):\r\n",
    "    lista1[i1].sort()\r\n",
    "    print(lista1[i1])\r\n",
    "    i1+=1"
   ],
   "outputs": [],
   "metadata": {}
  },
  {
   "cell_type": "code",
   "execution_count": null,
   "source": [
    "BancoDeHorasDict = {\"N4WN6C4yjtVvAuv1\":[\"Gabriel Villa\",0],\"L5b0fsfGtpTMC7Ri\":[\"Guilherme Reis\",0]}"
   ],
   "outputs": [],
   "metadata": {}
  },
  {
   "cell_type": "code",
   "execution_count": null,
   "source": [
    "import json\r\n",
    "with open(\"BancoDeHorasDict.json\",\"r\",encoding=\"utf8\") as arquivo:\r\n",
    "    BancoDeHorasDict = arquivo.read()\r\n",
    "    BancoDeHorasDict = json.loads(BancoDeHorasDict)"
   ],
   "outputs": [],
   "metadata": {}
  },
  {
   "cell_type": "code",
   "execution_count": null,
   "source": [
    "id = input(\"Informe o seu ID(caso não possua id de funcionário, apenas digite 0 que será gerado um novo):\\n\")\r\n",
    "\r\n",
    "if ((id in BancoDeHorasDict) == True):\r\n",
    "    horas = int(input(\"Qual o valor das horas trabalhadas no dia de hoje, contanto a partir do início do expediente (9:00)?\\n\"))\r\n",
    "    BancoDeHorasDict[id][1]+= horas\r\n",
    "    \r\n",
    "elif(id == \"0\"):\r\n",
    "    novoid = idGenerator()\r\n",
    "    while((novoid in BancoDeHorasDict) == True):\r\n",
    "        novoid = idGenerator()\r\n",
    "        \r\n",
    "    nome = input(\"Informe o seu nome completo:\\n\")\r\n",
    "    horas = int(input(\"Qual o valor das horas trabalhadas no dia de hoje, contanto a partir do início do expediente (9:00)?\\n\"))\r\n",
    "    BancoDeHorasDict[novoid] = [nome,horas]\r\n",
    "    \r\n",
    "else:\r\n",
    "    print(\"ID Inválido\")\r\n",
    "\r\n",
    "with open(\"BancoDeHorasDict.json\",\"w\",encoding=\"utf8\") as arquivo:\r\n",
    "    arquivo.write(json.dumps(BancoDeHorasDict))"
   ],
   "outputs": [],
   "metadata": {}
  },
  {
   "cell_type": "code",
   "execution_count": null,
   "source": [
    "print(BancoDeHorasDict)\r\n",
    "print(BancoDeHorasDict2)"
   ],
   "outputs": [],
   "metadata": {}
  },
  {
   "cell_type": "code",
   "execution_count": null,
   "source": [
    "with open(\"BancoDeHorasDict.json\",\"r\",encoding=\"utf8\") as arquivo:\r\n",
    "    BancoDeHorasDict = arquivo.read()\r\n",
    "    BancoDeHorasDict = json.loads(BancoDeHorasDict)"
   ],
   "outputs": [],
   "metadata": {}
  },
  {
   "cell_type": "code",
   "execution_count": null,
   "source": [
    "#import pickle\r\n",
    "#import pandas as pd\r\n",
    "#arq1 = open(\"BancoDeHoras.csv\",\"w\",encoding=\"utf8\")\r\n",
    "#while i < (len(BancoDeHoras)):\r\n",
    "    #texto =\r\n",
    "    #arq1.write(ListaDeFuncionarios)\r\n",
    "    #arq1.write(\"\\n\")\r\n",
    "    #arq1.write(BancoDeHoras)\r\n",
    "    #i+=1\r\n",
    "    \r\n",
    "    ##ERRADO"
   ],
   "outputs": [],
   "metadata": {}
  },
  {
   "cell_type": "code",
   "execution_count": null,
   "source": [
    "i = 0\r\n",
    "while i < (len(BancoDeHoras)):\r\n",
    "    texto = ListaDeFuncionarios[i]\r\n",
    "    print(texto)\r\n",
    "    i+=1"
   ],
   "outputs": [],
   "metadata": {}
  },
  {
   "cell_type": "code",
   "execution_count": null,
   "source": [
    "#calculadora\r\n",
    "print(\"\\n******************* Python Calculator *******************\")\r\n",
    "\r\n",
    "operador = int(input(\"Selecione o número da operação desejada: \\n\\n1)Soma\\n2)Subtração\\n3)Multiplicação\\n4)Divisão\\n\\n\"))\r\n",
    "\r\n",
    "if(operador > 4 or operador < 0):\r\n",
    "    print(\"Por favor escolha uma das quatro opções possíveis\")\r\n",
    "    \r\n",
    "else:\r\n",
    "    x = float(input(\"\\nDigite o primeiro número: \"))\r\n",
    "    \r\n",
    "    y = float(input(\"\\nDigite o segundo número: \"))\r\n",
    "    \r\n",
    "    if(operador == 1):\r\n",
    "        resultado = x + y\r\n",
    "        operador = \"+\"\r\n",
    "        \r\n",
    "    elif(operador == 2):\r\n",
    "        resultado = x - y\r\n",
    "        operador = \"-\"\r\n",
    "        \r\n",
    "    elif(operador == 3):\r\n",
    "        resultado = x * y\r\n",
    "        operador = \"*\"\r\n",
    "        \r\n",
    "    elif(operador == 4):\r\n",
    "        resultado = x / y\r\n",
    "        operador = \"/\"\r\n",
    "        \r\n",
    "    print(\"\\n\")\r\n",
    "    print(x ,operador ,y ,\"=\" ,resultado)"
   ],
   "outputs": [],
   "metadata": {}
  },
  {
   "cell_type": "code",
   "execution_count": null,
   "source": [
    "BancoDeHorasList = [[\"Código\",\"Nome\",\"Horas\"],[\"N4WN6C4yjtVvAuv1\",\"Gabriel Villa\",0],[\"L5b0fsfGtpTMC7Ri\",\"Guilherme Reis\",0]]"
   ],
   "outputs": [],
   "metadata": {}
  },
  {
   "cell_type": "markdown",
   "source": [
    "# /////////////////////////////////////////////////////////////////////////////////////////////////////////////////////////////////////"
   ],
   "metadata": {}
  },
  {
   "cell_type": "code",
   "execution_count": null,
   "source": [
    "import csv\r\n",
    "import random\r\n",
    "import pandas as pd\r\n",
    "with open(\"BancoDeHoras.csv\",\"r\",encoding=\"utf8\") as arquivo:\r\n",
    "    BancoDeHorasList = csv.reader(arquivo)\r\n",
    "    BancoDeHorasList = list(BancoDeHorasList)"
   ],
   "outputs": [],
   "metadata": {}
  },
  {
   "cell_type": "code",
   "execution_count": null,
   "source": [
    "##While True para nas instâncias 0 e ID no BancoDeHoras, break encerrar o programa, caso o ID seja inválido, ele ira pedir para colocar o ID novamente ou digitar 0\r\n",
    "while True:\r\n",
    "    #Variáveis dos while, funcionam como os índices para para whiles\r\n",
    "    i = 0\r\n",
    "    j = 0\r\n",
    "    k = 1\r\n",
    "    \r\n",
    "    idFuncionario = input(\"Informe o seu ID(caso não possua id de funcionário, apenas digite 0 que será gerado um novo):\\n\\n\")\r\n",
    "\r\n",
    "    #Instância para caso o valor digitado seja 0, criar um novo ID (while com for serve para percorrer a lista para garantir que o novo ID já não existe)\r\n",
    "    if(idFuncionario == \"0\"):\r\n",
    "        idFuncionario = idGenerator()\r\n",
    "        \r\n",
    "        while(j == 0):\r\n",
    "            \r\n",
    "            for j in range(0,len(BancoDeHorasList)):\r\n",
    "                \r\n",
    "                if((idFuncionario in BancoDeHorasList[j][0]) == True):\r\n",
    "                    idFuncionario = idGenerator()\r\n",
    "                    j = 0\r\n",
    "                    break\r\n",
    "                    \r\n",
    "        nome = input(\"Informe o seu nome completo:\\n\")\r\n",
    "        BancoDeHorasList.append([idFuncionario,nome,0])\r\n",
    "        bdd = sqlite3.connect('BancoDeHorasSQL.db')\r\n",
    "        cursor = bdd.cursor()\r\n",
    "        sql_insert = \"insert into BancoDeHoras values (?,?,?)\"\r\n",
    "        cursor.execute(sql_insert,BancoDeHorasList[(len(BancoDeHorasList) - 1)])\r\n",
    "        bdd.commit()\r\n",
    "        bdd.close()\r\n",
    "        print(\"\\nEste é o seu novo ID:\",idFuncionario)\r\n",
    "        break\r\n",
    "        \r\n",
    "    #Instância .verify, nessa instância é possível usar uma série de comandos para vizualizar parâmetros específicos da lista, o bloco if serve para verificar se há algo depois do .verify e dependendo doq tiver o programa faz uma busca utilizando isso como parâmetro\r\n",
    "    elif(idFuncionario[:7] == \".verify\"):\r\n",
    "            if((len(idFuncionario)) >= 8):\r\n",
    "                parametroval = 0\r\n",
    "                parametro = idFuncionario[8:]\r\n",
    "                verifyResult = []\r\n",
    "                planilha = []\r\n",
    "                \r\n",
    "                for k in range(len(BancoDeHorasList)):\r\n",
    "                    \r\n",
    "                    if((parametro in str(BancoDeHorasList[k])) == True):\r\n",
    "                        verifyResult.append(k)\r\n",
    "                        parametroval = 1\r\n",
    "                        \r\n",
    "                    if(k+1 >=(len(BancoDeHorasList)) and parametroval == 1):\r\n",
    "                        \r\n",
    "                        for l in verifyResult:\r\n",
    "                            planilha.append(BancoDeHorasList[l])\r\n",
    "                            \r\n",
    "                        planilha = pd.DataFrame(planilha,columns=BancoDeHorasList[0])\r\n",
    "                        print(\"\\n\")\r\n",
    "                        print(planilha)\r\n",
    "                        break\r\n",
    "                        \r\n",
    "                    if(k+1 >=(len(BancoDeHorasList))):\r\n",
    "                        print(\"\\nParâmetro Inválido\\n\")\r\n",
    "                        break\r\n",
    "                        \r\n",
    "                break\r\n",
    "                \r\n",
    "            else:\r\n",
    "                BancoDeHoras = \"BancoDeHoras.csv\"\r\n",
    "                planilha = pd.read_csv(BancoDeHoras)\r\n",
    "                print(planilha)\r\n",
    "                break\r\n",
    "                \r\n",
    "    #Instância .help, nessa instância e mostrado todos os comandos e suas funções\r\n",
    "    elif(idFuncionario == \".help\"):\r\n",
    "        print(\"\\nComandos disponíveis:\\n\\n.verify: Comando imprime a planilha, é possível passar um parâmetro específico como nome id ou número de horas trabalhadas, o programa retornará apenas os valores comuns ao parâmetro\\n\\n.help: Lista todos os comandos possíveis\")\r\n",
    "        break\r\n",
    "        \r\n",
    "    #Instância para que o programa procure o ID na lista do BancoDeHoras ([i-1]serve pra que o while não fique fora do index total e o [0] para ele apenas verificar o primeiro valor da de cada pequena lista), caso complete o percurso e não encontre, o programa vai dar ID Inválido e vai pedir para inserir novamente, caso encontre, o valor do i que foi usado no while vai servir para indicar o lugar onde o programa encontrou    \r\n",
    "    while((idFuncionario in BancoDeHorasList[i-1][0]) == False):\r\n",
    "        \r\n",
    "        if(i >=(len(BancoDeHorasList))):\r\n",
    "           print(\"\\nID inválido\\n\")\r\n",
    "           break\r\n",
    "            \r\n",
    "        else:\r\n",
    "            i+=1\r\n",
    "            \r\n",
    "    #Instância para caso o programa tenha encontrado o ID na lista, ele ira diminuir 1 no índice pois o da instância acima esta 1 passo a frente da lista correta, e irá somar as horas \r\n",
    "    else:\r\n",
    "        i-=1\r\n",
    "        BancoDeHorasList[i][2] = int(BancoDeHorasList[i][2])\r\n",
    "        BancoDeHorasList[i][2] += int(input(\"\\nQual o valor das horas trabalhadas no dia de hoje, contanto a partir do início do expediente (9:00)?\\n\\n\"))\r\n",
    "        bdd = sqlite3.connect('BancoDeHorasSQL.db')\r\n",
    "        cursor = bdd.cursor()\r\n",
    "        sql_set = \"UPDATE BancoDeHoras SET Horas = ? WHERE ID = ?\"\r\n",
    "        sql_values = (BancoDeHorasList[i][2],idFuncionario)\r\n",
    "        cursor.execute(sql_set, sql_values)\r\n",
    "        bdd.commit()\r\n",
    "        bdd.close()\r\n",
    "        break\r\n",
    "        \r\n",
    "##Gravar a Lista no Arquivo       \r\n",
    "listBancoDeHorasArq(BancoDeHorasList)"
   ],
   "outputs": [],
   "metadata": {}
  },
  {
   "cell_type": "code",
   "execution_count": null,
   "source": [
    "##Pandas planilha\r\n",
    "file_name = \"BancoDeHoras.csv\"\r\n",
    "df = pd.read_csv(file_name)\r\n",
    "df.head(1000000000)"
   ],
   "outputs": [],
   "metadata": {}
  },
  {
   "cell_type": "code",
   "execution_count": null,
   "source": [
    "ResetBancoDeHorasSQL(BancoDeHorasList)"
   ],
   "outputs": [],
   "metadata": {}
  },
  {
   "cell_type": "code",
   "execution_count": null,
   "source": [
    "bdd.close()"
   ],
   "outputs": [],
   "metadata": {}
  },
  {
   "cell_type": "code",
   "execution_count": null,
   "source": [
    "print(df.Código)"
   ],
   "outputs": [],
   "metadata": {}
  },
  {
   "cell_type": "code",
   "execution_count": null,
   "source": [
    "print(BancoDeHorasList)"
   ],
   "outputs": [],
   "metadata": {}
  },
  {
   "cell_type": "code",
   "execution_count": null,
   "source": [
    "df.head()"
   ],
   "outputs": [],
   "metadata": {}
  },
  {
   "cell_type": "code",
   "execution_count": null,
   "source": [
    "##limpar as Horas:\r\n",
    "i = 1\r\n",
    "while(i <(len(BancoDeHorasList))):\r\n",
    "        BancoDeHorasList[i][2] = int(BancoDeHorasList[i][2])\r\n",
    "        BancoDeHorasList[i][2] = 0\r\n",
    "        i+=1\r\n",
    "print(BancoDeHorasList)\r\n",
    "\r\n",
    "listBancoDeHorasArq(BancoDeHorasList)\r\n",
    "ResetBancoDeHorasSQL(BancoDeHorasList)"
   ],
   "outputs": [],
   "metadata": {}
  },
  {
   "cell_type": "markdown",
   "source": [
    "# /////////////////////////////////////////////////////////////////////////////////////////////////////////////////////////////////////"
   ],
   "metadata": {}
  },
  {
   "cell_type": "code",
   "execution_count": null,
   "source": [
    "flinston = []\r\n",
    "for i in range(0,3):\r\n",
    "    flinston.append(BancoDeHorasList[i])\r\n",
    "print(flinston)"
   ],
   "outputs": [],
   "metadata": {}
  },
  {
   "cell_type": "code",
   "execution_count": null,
   "source": [
    "import matplotlib.pyplot as plt\r\n",
    "%matplotlib notebook\r\n",
    "meses = [\"Jan\",\"Fev\",\"Mar\",\"Abr\",\"Mai\",\"Jun\",\"Jul\",\"Ago\",\"Set\",\"Out\",\"Nov\",\"Dez\"]\r\n",
    "valores123 = []\r\n",
    "for i in range(0,12):\r\n",
    "    valores123.append(random.randrange(10000,100000))\r\n",
    "plt.bar(meses,valores123)\r\n",
    "plt.show()"
   ],
   "outputs": [],
   "metadata": {}
  },
  {
   "cell_type": "code",
   "execution_count": null,
   "source": [],
   "outputs": [],
   "metadata": {}
  },
  {
   "cell_type": "code",
   "execution_count": null,
   "source": [
    "i = 0\r\n",
    "str = \".verify Gabriel Villa\"\r\n",
    "parametro = str[8:]\r\n",
    "print(parametro)\r\n",
    "while((parametro in BancoDeHorasList[i-1]) == False):\r\n",
    "    if((parametro in BancoDeHorasList[i]) == True):\r\n",
    "        verifyResult = [BancoDeHorasList[0]]\r\n",
    "        verifyResult += [BancoDeHorasList[i]]\r\n",
    "        break\r\n",
    "    i+=1\r\n",
    "print(verifyResult)"
   ],
   "outputs": [],
   "metadata": {}
  },
  {
   "cell_type": "code",
   "execution_count": null,
   "source": [
    "k = 1\r\n",
    "parametroval = 0\r\n",
    "parametro = \"Pedro Villa\"\r\n",
    "verifyResult = []\r\n",
    "while((parametro in str(BancoDeHorasList[k-1])) == False):\r\n",
    "    if((parametro in str(BancoDeHorasList[k])) == True):\r\n",
    "        verifyResult.append(k)\r\n",
    "        k+=1\r\n",
    "        parametroval = 1\r\n",
    "        if(k >=(len(BancoDeHorasList))):\r\n",
    "            for l in verifyResult:\r\n",
    "                planilha.append(BancoDeHorasList[l])\r\n",
    "            planilha = pd.DataFrame(planilha,columns=BancoDeHorasList[0])\r\n",
    "            print(\"\\n\")\r\n",
    "            print(planilha)\r\n",
    "            break\r\n",
    "    k+=1\r\n",
    "    if(k >=(len(BancoDeHorasList)) and parametroval == 0):\r\n",
    "            break\r\n",
    "print(verifyResult)"
   ],
   "outputs": [],
   "metadata": {}
  },
  {
   "cell_type": "code",
   "execution_count": null,
   "source": [
    "l = 0\r\n",
    "x = 0\r\n",
    "while(l<=len(BancoDeHorasList)):\r\n",
    "    x += BancoDeHorasList[l].count(\"Pedro Villa\")\r\n",
    "        if(BancoDeHorasList[l].count(\"Pedro Villa\") == 1)\r\n",
    "    l+=1\r\n",
    "    if (l+1>len(BancoDeHorasList)):\r\n",
    "        break\r\n",
    "print(x)"
   ],
   "outputs": [],
   "metadata": {}
  },
  {
   "cell_type": "code",
   "execution_count": null,
   "source": [
    "print(len(BancoDeHorasList))\r\n",
    "print(BancoDeHorasList[9])"
   ],
   "outputs": [],
   "metadata": {}
  },
  {
   "cell_type": "code",
   "execution_count": null,
   "source": [
    "cursor = bdd.cursor()"
   ],
   "outputs": [],
   "metadata": {}
  },
  {
   "cell_type": "code",
   "execution_count": null,
   "source": [
    "#Criar Tabela\r\n",
    "sql_create = \"create table BancoDeHoras (ID var primary key, Nome varchar(100), Horas integer)\"\r\n",
    "cursor.execute(sql_create)"
   ],
   "outputs": [],
   "metadata": {}
  },
  {
   "cell_type": "code",
   "execution_count": null,
   "source": [
    "cursor.execute(sql_create)"
   ],
   "outputs": [],
   "metadata": {}
  },
  {
   "cell_type": "code",
   "execution_count": null,
   "source": [
    "        x = (BancoDeHorasList[2][2],\"L5b0fsfGtpTMC7Ri\")\r\n",
    "        bdd = sqlite3.connect('BancoDeHorasSQL.db')\r\n",
    "        cursor = bdd.cursor()\r\n",
    "        sql_set = \"UPDATE BancoDeHoras SET Horas = ? WHERE ID = ?\"\r\n",
    "        cursor.execute(sql_set,x)\r\n",
    "        bdd.commit()\r\n",
    "        bdd.close()"
   ],
   "outputs": [],
   "metadata": {}
  },
  {
   "cell_type": "code",
   "execution_count": null,
   "source": [
    "sql_insert = \"insert into BancoDeHoras1 values (?,?,?)\""
   ],
   "outputs": [],
   "metadata": {}
  },
  {
   "cell_type": "code",
   "execution_count": null,
   "source": [
    "for i in range(1,len(BancoDeHorasList)):\r\n",
    "    cursor.execute(sql_insert, BancoDeHorasList[i])"
   ],
   "outputs": [],
   "metadata": {}
  },
  {
   "cell_type": "code",
   "execution_count": null,
   "source": [
    "recset = [(1005, 'Gabriel Villa', \"12\"),\r\n",
    "          (1006, 'Pedro Villa', \"0\"),\r\n",
    "          (1007, 'Carol Villa', \"8\")]\r\n",
    "for x in recset:\r\n",
    "    cursor.execute(sql_insert, x)"
   ],
   "outputs": [],
   "metadata": {}
  },
  {
   "cell_type": "code",
   "execution_count": null,
   "source": [
    "bdd.close()"
   ],
   "outputs": [],
   "metadata": {}
  },
  {
   "cell_type": "code",
   "execution_count": null,
   "source": [
    "bdd.commit()"
   ],
   "outputs": [],
   "metadata": {}
  },
  {
   "cell_type": "code",
   "execution_count": null,
   "source": [
    "sql_select = 'select * from BancoDeHoras1'\r\n",
    "cursor.execute(sql_select)\r\n",
    "dados = cursor.fetchall()"
   ],
   "outputs": [],
   "metadata": {}
  },
  {
   "cell_type": "code",
   "execution_count": null,
   "source": [
    "print(dados)"
   ],
   "outputs": [],
   "metadata": {}
  },
  {
   "cell_type": "code",
   "execution_count": null,
   "source": [
    "j = 0\r\n",
    "id = input(\"kkkk\\n\")\r\n",
    "if(id == \"0\"):\r\n",
    "    id = \"PH3974akn2XbqSXw\"\r\n",
    "    while(j == 0):\r\n",
    "        for j in range(0,len(BancoDeHorasList)):\r\n",
    "            if((id in BancoDeHorasList[j][0]) == True):\r\n",
    "                id = idGenerator()\r\n",
    "                j = 0\r\n",
    "                break\r\n",
    "print(id)"
   ],
   "outputs": [],
   "metadata": {}
  },
  {
   "cell_type": "code",
   "execution_count": null,
   "source": [
    "j = 0\r\n",
    "while (j == 0):\r\n",
    "    for j in range (0,16):\r\n",
    "        if(j == 8):\r\n",
    "            j = 0\r\n",
    "            break\r\n",
    "        print(j)"
   ],
   "outputs": [],
   "metadata": {}
  },
  {
   "cell_type": "code",
   "execution_count": null,
   "source": [
    "agora = datetime.datetime.now()\r\n",
    "print(agora)"
   ],
   "outputs": [],
   "metadata": {}
  },
  {
   "cell_type": "code",
   "execution_count": null,
   "source": [
    "import datetime "
   ],
   "outputs": [],
   "metadata": {}
  },
  {
   "cell_type": "code",
   "execution_count": null,
   "source": [
    "print(datetime.time.max)"
   ],
   "outputs": [],
   "metadata": {}
  },
  {
   "cell_type": "code",
   "execution_count": null,
   "source": [
    "verifyResult = []\r\n",
    "verifyResult.append(k)\r\n",
    "planilha = list(map)\r\n",
    "planilha = pd.DataFrame(planilha,columns=BancoDeHorasList[0])\r\n",
    "print(planilha)"
   ],
   "outputs": [],
   "metadata": {}
  },
  {
   "cell_type": "code",
   "execution_count": null,
   "source": [
    "import random\r\n",
    "for i in range(32,256):\r\n",
    "    x = chr(i)\r\n",
    "    coddiary[x] = random.randrange(0,1000)"
   ],
   "outputs": [],
   "metadata": {}
  },
  {
   "cell_type": "code",
   "execution_count": null,
   "source": [
    "print(coddiary)"
   ],
   "outputs": [],
   "metadata": {}
  },
  {
   "cell_type": "code",
   "execution_count": null,
   "source": [
    "a = 2\r\n",
    "b = 3\r\n",
    "texto = \"Salve família\"\r\n",
    "texto2 = \"\"\r\n",
    "for i in range(len(texto)):\r\n",
    "    texto2 += chr(ord(texto[i])+b)\r\n",
    "    for j in range (0,a):\r\n",
    "        texto2 += chr(random.randrange(33,255))\r\n",
    "print(texto2)"
   ],
   "outputs": [],
   "metadata": {}
  },
  {
   "cell_type": "code",
   "execution_count": null,
   "source": [
    "i = 0\r\n",
    "while (i < len(texto2)-116):\r\n",
    "    print(i)\r\n",
    "    i+=1"
   ],
   "outputs": [],
   "metadata": {}
  },
  {
   "cell_type": "markdown",
   "source": [
    "# DD CRIPTO ⇩⇩⇩⇩⇩⇩⇩⇩⇩⇩⇩⇩⇩⇩⇩⇩⇩⇩⇩⇩⇩⇩⇩⇩⇩⇩⇩⇩⇩⇩⇩⇩⇩⇩⇩⇩⇩⇩⇩⇩⇩⇩⇩⇩⇩⇩⇩⇩⇩⇩⇩⇩⇩⇩⇩⇩⇩⇩⇩⇩⇩⇩⇩⇩⇩⇩⇩⇩⇩⇩⇩⇩⇩⇩⇩⇩⇩⇩⇩"
   ],
   "metadata": {}
  },
  {
   "cell_type": "code",
   "execution_count": 1,
   "source": [
    "##C:/Users/User/Documents/dd.txt\r\n",
    "import random\r\n",
    "import os\r\n",
    "coddiary = {' ': 49, '!': 562, '\"': 842, '#': 188, '$': 417, '%': 957, '&': 27, \"'\": 494, '(': 407, ')': 508, '*': 914, '+': 962, ',': 52, '-': 895, '.': 961, '/': 30, '0': 460, '1': 461, '2': 903, '3': 464, '4': 422, '5': 93, '6': 420, '7': 544, '8': 278, '9': 146, ':': 471, ';': 952, '<': 631, '=': 839, '>': 376, '?': 801, '@': 774, 'A': 745, 'B': 613, 'C': 854, 'D': 101, 'E': 29, 'F': 627, 'G': 29, 'H': 492, 'I': 467, 'J': 623, 'K': 834, 'L': 958, 'M': 925, 'N': 486, 'O': 122, 'P': 744, 'Q': 871, 'R': 5, 'S': 721, 'T': 919, 'U': 348, 'V': 33, 'W': 460, 'X': 854, 'Y': 703, 'Z': 892, '[': 631, '\\\\': 165, ']': 787, '^': 582, '_': 602, '`': 509, 'a': 742, 'b': 909, 'c': 612, 'd': 686, 'e': 932, 'f': 24, 'g': 62, 'h': 325, 'i': 659, 'j': 157, 'k': 858, 'l': 325, 'm': 924, 'n': 968, 'o': 858, 'p': 256, 'q': 67, 'r': 275, 's': 479, 't': 353, 'u': 49, 'v': 368, 'w': 222, 'x': 167, 'y': 228, 'z': 928, '{': 661, '|': 264, '}': 157, '~': 755, '\\x7f': 251, '\\x80': 383, '\\x81': 554, '\\x82': 110, '\\x83': 598, '\\x84': 295, '\\x85': 248, '\\x86': 686, '\\x87': 380, '\\x88': 613, '\\x89': 460, '\\x8a': 989, '\\x8b': 376, '\\x8c': 395, '\\x8d': 179, '\\x8e': 470, '\\x8f': 97, '\\x90': 772, '\\x91': 853, '\\x92': 23, '\\x93': 846, '\\x94': 983, '\\x95': 565, '\\x96': 635, '\\x97': 590, '\\x98': 119, '\\x99': 623, '\\x9a': 926, '\\x9b': 230, '\\x9c': 557, '\\x9d': 544, '\\x9e': 16, '\\x9f': 794, '\\xa0': 361, '¡': 886, '¢': 458, '£': 305, '¤': 490, '¥': 472, '¦': 393, '§': 409, '¨': 712, '©': 794, 'ª': 872, '«': 258, '¬': 817, '\\xad': 998, '®': 203, '¯': 688, '°': 364, '±': 684, '²': 772, '³': 386, '´': 578, 'µ': 21, '¶': 278, '·': 714, '¸': 732, '¹': 615, 'º': 762, '»': 45, '¼': 304, '½': 565, '¾': 639, '¿': 388, 'À': 558, 'Á': 515, 'Â': 9, 'Ã': 624, 'Ä': 234, 'Å': 23, 'Æ': 355, 'Ç': 63, 'È': 57, 'É': 487, 'Ê': 715, 'Ë': 194, 'Ì': 435, 'Í': 396, 'Î': 881, 'Ï': 565, 'Ð': 289, 'Ñ': 959, 'Ò': 463, 'Ó': 769, 'Ô': 379, 'Õ': 650, 'Ö': 765, '×': 277, 'Ø': 918, 'Ù': 365, 'Ú': 368, 'Û': 417, 'Ü': 205, 'Ý': 206, 'Þ': 128, 'ß': 797, 'à': 898, 'á': 663, 'â': 349, 'ã': 358, 'ä': 583, 'å': 371, 'æ': 966, 'ç': 267, 'è': 803, 'é': 604, 'ê': 460, 'ë': 90, 'ì': 809, 'í': 495, 'î': 700, 'ï': 14, 'ð': 423, 'ñ': 462, 'ò': 811, 'ó': 571, 'ô': 406, 'õ': 5, 'ö': 326, '÷': 315, 'ø': 460, 'ù': 861, 'ú': 622, 'û': 396, 'ü': 877, 'ý': 865, 'þ': 685, 'ÿ': 767}\r\n"
   ],
   "outputs": [],
   "metadata": {}
  },
  {
   "cell_type": "code",
   "execution_count": 4,
   "source": [
    "password = str(input(\"Codifier:\"))\r\n",
    "locker = 0\r\n",
    "for i in range(len(password)):\r\n",
    "    x = password[i]\r\n",
    "    locker += coddiary[x]\r\n",
    "locker = locker * 3.141\r\n",
    "y = str(locker)\r\n",
    "for i in range(len(y)):\r\n",
    "    if(y[i] == \".\"):\r\n",
    "        b = int(y[i+1:])\r\n",
    "        a = int(y[:3])-int(y[3:i])\r\n",
    "with open(\"C:/Users/User/Documents/dd dec.txt\",\"r\", encoding=\"utf8\") as arquivo:\r\n",
    "    texto = arquivo.read()\r\n",
    "    arquivo.close()\r\n",
    "texto2 = \"\"\r\n",
    "for i in range(len(texto)):\r\n",
    "    texto2 += chr(ord(texto[i])+b)\r\n",
    "    for j in range (0,a):\r\n",
    "        texto2 += chr(random.randrange(33,255))\r\n",
    "os.remove(\"C:/Users/User/Documents/dd dec.txt\")\r\n",
    "with open(\"C:/Users/User/Documents/dd.txt\",\"w\", encoding=\"utf8\") as arquivo:\r\n",
    "    arquivo.write(texto2)\r\n",
    "    arquivo.close()"
   ],
   "outputs": [],
   "metadata": {}
  },
  {
   "cell_type": "code",
   "execution_count": 2,
   "source": [
    "password = str(input(\"Decodifier:\"))\r\n",
    "locker = 0\r\n",
    "for i in range(len(password)):\r\n",
    "    x = password[i]\r\n",
    "    locker += coddiary[x]\r\n",
    "locker = locker * 3.141\r\n",
    "y = str(locker)\r\n",
    "for i in range(len(y)):\r\n",
    "    if(y[i] == \".\"):\r\n",
    "        b = int(y[i+1:])\r\n",
    "        a = int(y[:3])-int(y[3:i])\r\n",
    "with open(\"C:/Users/User/Documents/dd.txt\",\"r\", encoding=\"utf8\") as arquivo:\r\n",
    "    texto2 = arquivo.read()\r\n",
    "    arquivo.close()\r\n",
    "texto = \"\"\r\n",
    "i = 0\r\n",
    "while (i < len(texto2)-a):\r\n",
    "    texto += chr(ord(texto2[i])-b)\r\n",
    "    i+= a + 1\r\n",
    "with open(\"C:/Users/User/Documents/dd dec.txt\",\"w\", encoding=\"utf8\") as arquivo:\r\n",
    "    arquivo.write(texto)\r\n",
    "    arquivo.close()"
   ],
   "outputs": [],
   "metadata": {}
  },
  {
   "cell_type": "markdown",
   "source": [
    "# DD CRIPTO ⇧⇧⇧⇧⇧⇧⇧⇧⇧⇧⇧⇧⇧⇧⇧⇧⇧⇧⇧⇧⇧⇧⇧⇧⇧⇧⇧⇧⇧⇧⇧⇧⇧⇧⇧⇧⇧⇧⇧⇧⇧⇧⇧⇧⇧⇧⇧⇧⇧⇧⇧⇧⇧⇧⇧⇧⇧⇧⇧⇧⇧⇧⇧⇧⇧⇧⇧⇧⇧⇧⇧⇧⇧⇧⇧⇧⇧⇧⇧"
   ],
   "metadata": {}
  },
  {
   "cell_type": "markdown",
   "source": [
    "# FUNÇÕES"
   ],
   "metadata": {}
  },
  {
   "cell_type": "code",
   "execution_count": 1,
   "source": [
    "import random\r\n",
    "def idGenerator():\r\n",
    "    id = \"\"\r\n",
    "    caracters = \"abcdefghijklmnopqrstuvwxyz1234567890ABCDEFGHIJKLMNOPQRSTUVWXYZ\"\r\n",
    "    for i in range(0,16):\r\n",
    "        id += random.choice(caracters)\r\n",
    "    return id"
   ],
   "outputs": [],
   "metadata": {}
  },
  {
   "cell_type": "code",
   "execution_count": null,
   "source": [],
   "outputs": [],
   "metadata": {}
  },
  {
   "cell_type": "code",
   "execution_count": null,
   "source": [
    "def listBancoDeHorasArq(BancoDeHorasList):\r\n",
    "    import pandas as pd\r\n",
    "    i = 0\r\n",
    "    \r\n",
    "    arq1 = open(\"BancoDeHoras.csv\",\"w\",encoding=\"utf8\")\r\n",
    "    \r\n",
    "    while i < (len(BancoDeHorasList)):\r\n",
    "        j = 0\r\n",
    "        while j < len(BancoDeHorasList[0]):\r\n",
    "            texto = str(BancoDeHorasList[i][j])\r\n",
    "            arq1.write(texto)\r\n",
    "            if(j != ((len(BancoDeHorasList[0])-1))):\r\n",
    "                arq1.write(\",\")\r\n",
    "            j+=1\r\n",
    "        arq1.write(\"\\n\")\r\n",
    "        i+=1\r\n",
    "        \r\n",
    "    arq1.close()"
   ],
   "outputs": [],
   "metadata": {}
  },
  {
   "cell_type": "code",
   "execution_count": null,
   "source": [
    "import os\r\n",
    "import sqlite3\r\n",
    "def ResetBancoDeHorasSQL(BancoDeHorasList):\r\n",
    "\r\n",
    "    os.remove(\"BancoDeHorasSQL.db\") if os.path.exists(\"BancoDeHorasSQL.db\") else None\r\n",
    "    bdd = sqlite3.connect('BancoDeHorasSQL.db')\r\n",
    "    cursor = bdd.cursor()\r\n",
    "    #Criar Tabela\r\n",
    "    sql_create = \"CREATE TABLE BancoDeHoras (ID var primary key, Nome varchar(150), Horas INTEGER)\"\r\n",
    "    cursor.execute(sql_create)\r\n",
    "    sql_insert = \"insert into BancoDeHoras values (?,?,?)\"\r\n",
    "    for i in range(1,len(BancoDeHorasList)):\r\n",
    "        cursor.execute(sql_insert, BancoDeHorasList[i])\r\n",
    "    bdd.commit()\r\n",
    "    bdd.close()"
   ],
   "outputs": [],
   "metadata": {}
  },
  {
   "cell_type": "code",
   "execution_count": null,
   "source": [],
   "outputs": [],
   "metadata": {}
  }
 ],
 "metadata": {
  "interpreter": {
   "hash": "8fac594bfae6525c0c41b4041d2d72effa188cc8ead05f81b1fab2bb098927fb"
  },
  "kernelspec": {
   "name": "python3",
   "display_name": "Python 3.8.8 64-bit ('base': conda)"
  },
  "language_info": {
   "codemirror_mode": {
    "name": "ipython",
    "version": 3
   },
   "file_extension": ".py",
   "mimetype": "text/x-python",
   "name": "python",
   "nbconvert_exporter": "python",
   "pygments_lexer": "ipython3",
   "version": "3.8.8"
  }
 },
 "nbformat": 4,
 "nbformat_minor": 5
}